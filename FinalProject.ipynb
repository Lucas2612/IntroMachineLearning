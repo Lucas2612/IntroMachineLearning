{
 "cells": [
  {
   "cell_type": "markdown",
   "metadata": {},
   "source": [
    "This is a final project..."
   ]
  },
  {
   "cell_type": "markdown",
   "metadata": {},
   "source": [
    "Loading the data"
   ]
  },
  {
   "cell_type": "code",
   "execution_count": 1,
   "metadata": {
    "collapsed": true,
    "scrolled": false
   },
   "outputs": [],
   "source": [
    "import math\n",
    "import operator\n",
    "import pandas as pd\n",
    "import pickle\n",
    "\n",
    "data_dict = pickle.load( open(\"../final_project/final_project_dataset.pkl\", \"r\") )\n",
    "\n",
    "## Removing the Outlier\n",
    "data_dict.pop(\"TOTAL\", 0)\n",
    "\n",
    "#financial_features\n",
    "financial_features = ['salary', 'deferral_payments', 'total_payments', 'loan_advances', 'bonus', \n",
    "                      'restricted_stock_deferred', 'deferred_income', 'total_stock_value', 'expenses', \n",
    "                      'exercised_stock_options', 'other', 'long_term_incentive', 'restricted_stock', \n",
    "                      'director_fees']\n",
    "email_features = ['to_messages', 'email_address', 'from_poi_to_this_person', \n",
    "                  'from_messages', 'from_this_person_to_poi', 'shared_receipt_with_poi']\n",
    "poi_feature = ['poi']"
   ]
  },
  {
   "cell_type": "code",
   "execution_count": 2,
   "metadata": {},
   "outputs": [
    {
     "name": "stdout",
     "output_type": "stream",
     "text": [
      "salary NANs: 51\n",
      "deferral_payments NANs: 107\n",
      "total_payments NANs: 21\n",
      "loan_advances NANs: 142\n",
      "bonus NANs: 64\n",
      "restricted_stock_deferred NANs: 128\n",
      "deferred_income NANs: 97\n",
      "total_stock_value NANs: 20\n",
      "expenses NANs: 51\n",
      "exercised_stock_options NANs: 44\n",
      "other NANs: 53\n",
      "long_term_incentive NANs: 80\n",
      "restricted_stock NANs: 36\n",
      "director_fees NANs: 129\n",
      "to_messages NANs: 59\n",
      "email_address NANs: 34\n",
      "from_poi_to_this_person NANs: 59\n",
      "from_messages NANs: 59\n",
      "from_this_person_to_poi NANs: 59\n",
      "shared_receipt_with_poi NANs: 59\n"
     ]
    }
   ],
   "source": [
    "columns = financial_features + email_features + poi_feature\n",
    "my_data = pd.DataFrame(columns=columns)\n",
    "\n",
    "for key, value in data_dict.iteritems():\n",
    "    cols = []\n",
    "    items = []\n",
    "    for coluna, valor in value.iteritems():\n",
    "        cols.append(coluna)\n",
    "        items.append(valor)\n",
    "    row = pd.DataFrame([items], columns=cols, index=[key])\n",
    "    my_data = my_data.append(row)\n",
    "\n",
    "# Count and Fill NANs\n",
    "for f in financial_features + email_features:\n",
    "    print f + ' NANs: ' + str(my_data.loc[my_data[f]=='NaN', f].count())\n",
    "    my_data.loc[my_data[f]=='NaN', f] = 0\n",
    "\n"
   ]
  },
  {
   "cell_type": "code",
   "execution_count": 3,
   "metadata": {
    "collapsed": true
   },
   "outputs": [],
   "source": [
    "# choosing few financial features\n",
    "financial_features = ['bonus', 'salary', 'total_payments', 'total_stock_value']\n",
    "my_data = my_data[poi_feature + email_features + financial_features]\n",
    "\n",
    "# updating email \n",
    "my_data.loc[my_data['email_address']==0, 'email_address'] = ''\n"
   ]
  },
  {
   "cell_type": "code",
   "execution_count": 93,
   "metadata": {},
   "outputs": [
    {
     "name": "stdout",
     "output_type": "stream",
     "text": [
      "<type 'numpy.ndarray'>\n"
     ]
    }
   ],
   "source": [
    "# Reescaling financial_features\n",
    "from sklearn.preprocessing import MinMaxScaler\n",
    "financial_features_sc = ['bonus_sc', 'salary_sc', 'total_payments_sc', 'total_stock_value_sc']\n",
    "data_f = my_data[financial_features]\n",
    "scaler = MinMaxScaler(feature_range=(0, 100))\n",
    "scaler.fit(data_f)\n",
    "\n",
    "#scaler.fit(data2)\n",
    "data_f = pd.DataFrame(scaler.transform(data_f), columns=[financial_features_sc], index=my_data.index.values)\n",
    "#df2 = pd.DataFrame(scaler.transform(data2), columns=['C', 'D'], index=my_data.index.values)\n",
    "#df[['C', 'D']] = df2\n",
    "#print data_f\n"
   ]
  },
  {
   "cell_type": "code",
   "execution_count": 5,
   "metadata": {},
   "outputs": [
    {
     "name": "stdout",
     "output_type": "stream",
     "text": [
      "bonus_sc                float64\n",
      "salary_sc               float64\n",
      "total_payments_sc       float64\n",
      "total_stock_value_sc    float64\n",
      "from_to_poi_sc          float64\n",
      "percent_from_to_poi     float64\n",
      "poi                       int32\n",
      "dtype: object\n"
     ]
    }
   ],
   "source": [
    "import numpy as np\n",
    "#email_features = ['to_messages', 'email_address', 'from_poi_to_this_person', \n",
    "#                 'from_messages', 'from_this_person_to_poi', 'shared_receipt_with_poi']\n",
    "    \n",
    "# Selecting and scaling email_features\n",
    "#data_e = my_data[email_features]\n",
    "data_e = pd.DataFrame()\n",
    "data_percent = pd.DataFrame(index=my_data.index.values)\n",
    "data_e.loc[:, ('from_to_poi')] = my_data.loc[:,('from_this_person_to_poi')] + my_data.loc[:,('from_poi_to_this_person')]\n",
    "data_e.loc[:, ('total_messages')] = my_data.loc[:, ('to_messages')] + my_data.loc[:, ('from_messages')] \n",
    "#print data_e\n",
    "data_e.loc[:, ('total_messages')] = pd.to_numeric(data_e.loc[:, ('total_messages')]) \n",
    "data_e.loc[:, ('from_to_poi')] = pd.to_numeric(data_e.loc[:, ('from_to_poi')])\n",
    "data_percent.loc[:, ('percent_from_to_poi')] = np.where(data_e.loc[:, ('total_messages')] > 0, \n",
    "                                                  (data_e.loc[:, ('from_to_poi')]/data_e.loc[:, ('total_messages')]) * 100, 0)\n",
    "scaler = MinMaxScaler(feature_range=(0, 100))\n",
    "scaler.fit(data_e)\n",
    "data_e = pd.DataFrame(scaler.transform(data_e), columns=['from_to_poi_sc', 'total_messages_sc' ], index=my_data.index.values)\n",
    "data_e['percent_from_to_poi'] = data_percent\n",
    "data_e = data_e.drop('total_messages_sc', axis=1)\n",
    "\n",
    "#df[['C', 'D']] = df2\n",
    "data_sc = data_f\n",
    "data_sc[['from_to_poi_sc', 'percent_from_to_poi']] = data_e\n",
    "data_sc['poi'] = my_data['poi'].astype(int)\n",
    "#del data_e\n",
    "#del data_f\n",
    "#del my_data\n",
    "#del data_percent\n",
    "print data_sc.dtypes"
   ]
  },
  {
   "cell_type": "code",
   "execution_count": 91,
   "metadata": {},
   "outputs": [
    {
     "name": "stdout",
     "output_type": "stream",
     "text": [
      "[ 0.65629449  0.17597482  0.09436125  0.04449257  0.0180519   0.01082498]\n"
     ]
    }
   ],
   "source": [
    "# Spliting Data and PCA\n",
    "\n",
    "from sklearn.model_selection import train_test_split\n",
    "from time import time\n",
    "from sklearn.decomposition import PCA\n",
    "\n",
    "#X = data_sc.loc[:, data_sc.columns != 'poi']\n",
    "#['bonus_sc', 'salary_sc', 'total_payments_sc', 'total_stock_value_sc']\n",
    "# 'from_to_poi_sc', 'percent_from_to_poi\n",
    "#X = data_sc.loc[:, ('salary_sc', 'total_stock_value_sc')]\n",
    "X = data_sc.loc[:, data_sc.columns != 'poi']\n",
    "y = data_sc.loc[:, data_sc.columns == 'poi'] \n",
    "\n",
    "X_train, X_test, y_train, y_test = train_test_split(X, y, test_size=0.3, random_state=19)\n",
    "\n",
    "pca = PCA(whiten=True, n_components=6).fit(X_train)\n",
    "#print pca.singular_values_\n",
    "print pca.explained_variance_ratio_\n",
    "#print pca.components_\n",
    "X_train_pca = pca.transform(X_train)\n",
    "X_test_pca = pca.transform(X_test)"
   ]
  },
  {
   "cell_type": "code",
   "execution_count": 38,
   "metadata": {},
   "outputs": [
    {
     "name": "stdout",
     "output_type": "stream",
     "text": [
      "Decision Tree\n",
      "training time: 0.644 s\n",
      "{'min_samples_split': 6, 'splitter': 'random', 'min_samples_leaf': 2}\n",
      "Regression\n",
      "training time: 0.031 s\n",
      "{'copy_X': True, 'normalize': True, 'fit_intercept': True}\n",
      "SVM\n",
      "training time: 2.953 s\n",
      "{'kernel': 'linear', 'C': 1}\n"
     ]
    }
   ],
   "source": [
    "#Grid Search\n",
    "from sklearn.model_selection import GridSearchCV\n",
    "print \"Decision Tree\"\n",
    "\n",
    "from sklearn import tree\n",
    "parameters = {'min_samples_split':range(2, 10), 'min_samples_leaf':range(1, 10), 'splitter':['best', 'random']}\n",
    "dt = tree.DecisionTreeClassifier(random_state=0)\n",
    "clf_dt = GridSearchCV(dt, parameters)\n",
    "t0 = time()\n",
    "clf_dt.fit(X_train_pca, y_train['poi'].values)\n",
    "print \"training time:\", round(time()-t0, 3), \"s\"\n",
    "print clf_dt.best_params_\n",
    "\n",
    "print \"Regression\"\n",
    "\n",
    "from sklearn import linear_model\n",
    "parameters = {'fit_intercept':[True,False], 'normalize':[True,False], 'copy_X':[True, False]}\n",
    "reg = linear_model.LinearRegression()\n",
    "clf_r = GridSearchCV(reg, parameters)\n",
    "t0 = time()\n",
    "clf_r.fit(X_train_pca, y_train['poi'].values)\n",
    "print \"training time:\", round(time()-t0, 3), \"s\"\n",
    "print clf_r.best_params_\n",
    "\n",
    "print \"SVM\"\n",
    "\n",
    "from sklearn import svm\n",
    "\n",
    "parameters = {'kernel':('linear', 'rbf'), 'C':range(1, 100)}\n",
    "svr = svm.SVC() \n",
    "clf_s = GridSearchCV(svr, parameters)\n",
    "t0 = time()\n",
    "clf_s.fit(X_train_pca, y_train['poi'].values)\n",
    "print \"training time:\", round(time()-t0, 3), \"s\"\n",
    "print clf_s.best_params_\n"
   ]
  },
  {
   "cell_type": "code",
   "execution_count": 75,
   "metadata": {},
   "outputs": [
    {
     "name": "stdout",
     "output_type": "stream",
     "text": [
      "Naive Bayes\n",
      "training time: 0.001 s\n",
      "score: 0.818181818182\n",
      "Decision Tree\n",
      "training time: 0.002 s\n",
      "score: 0.863636363636\n",
      "Regression\n",
      "training time: 0.0 s\n",
      "score: 0.300179644508\n",
      "SVM\n",
      "training time: 0.004 s\n",
      "score: 0.840909090909\n"
     ]
    }
   ],
   "source": [
    "#Validation\n",
    "print \"Naive Bayes\"\n",
    "\n",
    "from sklearn.naive_bayes import GaussianNB\n",
    "t0 = time()\n",
    "clf_nb_v = GaussianNB()\n",
    "clf_nb_v.fit(X_train_pca, y_train)\n",
    "print \"training time:\", round(time()-t0, 3), \"s\"\n",
    "accuracy_nb = clf_nb_v.score(X_test_pca, y_test)\n",
    "print \"score: \" + str(accuracy_nb)\n",
    "\n",
    "print \"Decision Tree\"\n",
    "clf_dt_v= tree.DecisionTreeClassifier(random_state = 0, min_samples_split = 6, splitter = 'random', min_samples_leaf = 2)\n",
    "t0 = time()\n",
    "clf_dt_v.fit(X_train_pca, y_train)\n",
    "print \"training time:\", round(time()-t0, 3), \"s\"\n",
    "accuracy_dt = clf_dt_v.score(X_test_pca, y_test)\n",
    "print \"score: \" + str(accuracy_dt)\n",
    "\n",
    "print \"Regression\"\n",
    "clf_reg_v = linear_model.LinearRegression(copy_X = 'True', normalize = 'False', fit_intercept = 'True')\n",
    "t0 = time()\n",
    "clf_reg_v.fit(X_train_pca, y_train)\n",
    "print \"training time:\", round(time()-t0, 3), \"s\"\n",
    "accuracy_reg = clf_reg_v.score(X_test_pca, y_test)\n",
    "print \"score: \" + str(accuracy_reg)\n",
    "\n",
    "print \"SVM\"\n",
    "clf_svr_v = svm.SVC(random_state=0, kernel = 'linear', C = 1)\n",
    "t0 = time()\n",
    "clf_svr_v.fit(X_train_pca, y_train)\n",
    "print \"training time:\", round(time()-t0, 3), \"s\"\n",
    "accuracy_svr = clf_svr_v.score(X_test_pca, y_test)\n",
    "print \"score: \" + str(accuracy_svr)\n"
   ]
  },
  {
   "cell_type": "code",
   "execution_count": 92,
   "metadata": {},
   "outputs": [
    {
     "name": "stdout",
     "output_type": "stream",
     "text": [
      "0.142857142857\n",
      "44\n",
      "7\n",
      "4\n"
     ]
    }
   ],
   "source": [
    "#Evaluation Metric\n",
    "from sklearn.metrics import precision_score \n",
    "from sklearn.metrics import recall_score\n",
    "\n",
    "print recall_score(y_test, clf_dt_v.predict(X_test))\n",
    "list_p = clf_dt_v.predict(X_test)\n",
    "#print precision_score(y_test, clf_svr_v.predict(X_test_pca))\n",
    "#print recall_score(y_test, clf_svr_v.predict(X_test_pca))\n",
    "count = 0\n",
    "value_1 = 0\n",
    "predict_1 = 0\n",
    "for i in range(0, len(y_test)):\n",
    "    count += 1\n",
    "    if y_test.values[i]==1:\n",
    "        value_1 +=1\n",
    "    if list_p[i] == 1:\n",
    "        predict_1 += 1\n",
    "    #print 'predict: ' + str(list_p[i]) + ' actual value: ' + str(y_test.values[i])\n",
    "print count\n",
    "print value_1\n",
    "print predict_1"
   ]
  },
  {
   "cell_type": "code",
   "execution_count": 29,
   "metadata": {},
   "outputs": [
    {
     "name": "stdout",
     "output_type": "stream",
     "text": [
      "Regression\n",
      "training time: 0.002 s\n",
      "score: 0.204874033065\n",
      "SVM\n",
      "training time: 0.002 s\n",
      "score: 0.840909090909\n"
     ]
    }
   ],
   "source": [
    "\n",
    "\n",
    "\n"
   ]
  },
  {
   "cell_type": "code",
   "execution_count": 50,
   "metadata": {
    "collapsed": true
   },
   "outputs": [],
   "source": [
    "def return_list_array(data_frame, feature1, feature2):\n",
    "    feature_list = []\n",
    "    poi_list = []\n",
    "    for index, row in data_frame.iterrows():\n",
    "        tmp_list = []\n",
    "        tmp_list.append(float(row[feature_1]))\n",
    "        tmp_list.append(float(row[feature_2]))\n",
    "        poi_list.append(float(row['poi']))\n",
    "        feature_list.append(np.array(tmp_list))\n",
    "    return poi_list, feature_list\n",
    "#print return_list_array(data_sc, 'bonus_sc', 'salary_sc')\n",
    "\n",
    "def Draw(pred, features, poi, mark_poi=False, name=\"image.png\", f1_name=\"feature 1\", f2_name=\"feature 2\"):\n",
    "    \"\"\" some plotting code designed to help you visualize your clusters \"\"\"\n",
    "\n",
    "    ### plot each cluster with a different color--add more colors for\n",
    "    ### drawing more than five clusters\n",
    "    colors = [\"b\", \"c\", \"k\", \"m\", \"g\"]\n",
    "    for ii, pp in enumerate(pred):\n",
    "        plt.scatter(features[ii][0], features[ii][1], color = colors[pred[ii]])\n",
    "\n",
    "    ### if you like, place red stars over points that are POIs (just for funsies)\n",
    "    if mark_poi:\n",
    "        for ii, pp in enumerate(pred):\n",
    "            if poi[ii]:\n",
    "                plt.scatter(features[ii][0], features[ii][1], color=\"r\", marker=\"*\")\n",
    "    plt.xlabel(f1_name)\n",
    "    plt.ylabel(f2_name)\n",
    "    plt.savefig(name)\n",
    "    plt.show()"
   ]
  },
  {
   "cell_type": "code",
   "execution_count": 410,
   "metadata": {},
   "outputs": [
    {
     "data": {
      "image/png": "[encoded data removed]",
      "text/plain": [
       "<matplotlib.figure.Figure at 0x129f72e8>"
      ]
     },
     "metadata": {},
     "output_type": "display_data"
    }
   ],
   "source": [
    "### in the \"clustering with 3 features\" part of the mini-project,\n",
    "### you'll want to change this line to \n",
    "### for f1, f2, _ in finance_features:\n",
    "### (as it's currently written, the line below assumes 2 features)\n",
    "\n",
    "#feature_1 = 'from_to_poi_sc'\n",
    "feature_1 = 'bonus_sc'\n",
    "feature_2 = 'total_stock_value_sc'\n",
    "\n",
    "#financial_features = ['bonus', 'salary', 'total_payments', 'total_stock_value']\n",
    "\n",
    "import matplotlib.pyplot as plt\n",
    "poi_list, data_features = return_list_array(data_sc, feature_1, feature_2)\n",
    "for f1, f2 in data_features:\n",
    "    plt.xlabel(feature_1)\n",
    "    plt.ylabel(feature_2)\n",
    "    plt.scatter( f1, f2)\n",
    "#plt.show()\n",
    "\n",
    "from sklearn.cluster import KMeans\n",
    "km = KMeans(n_clusters=2)\n",
    "km.fit_predict(data_features)\n",
    "pred = km.predict(data_features)\n",
    "\n",
    "try:\n",
    "    Draw(pred, data_features, poi_list, mark_poi=False, name=\"clusters.pdf\", f1_name=feature_1, f2_name=feature_2)\n",
    "except NameError:\n",
    "    print \"no predictions object named pred found, no clusters to plot\"\n"
   ]
  },
  {
   "cell_type": "code",
   "execution_count": 106,
   "metadata": {},
   "outputs": [
    {
     "name": "stdout",
     "output_type": "stream",
     "text": [
      "total_stock_value max value: 49110078\n",
      "total_stock_value min value: -44093\n",
      "{'GLISAN JR BEN F': {'total_stock_value': 778546}}\n",
      "total_payments max value: 103559793\n",
      "total_payments min value: 0.0\n",
      "{'GLISAN JR BEN F': {'total_payments': 1272284}}\n",
      "salary max value: 1111258\n",
      "salary min value: 0.0\n",
      "{'GLISAN JR BEN F': {'salary': 274975}}\n",
      "bonus max value: 8000000\n",
      "bonus min value: 0.0\n",
      "{'GLISAN JR BEN F': {'bonus': 600000}}\n"
     ]
    }
   ],
   "source": [
    "for key in financial_features:\n",
    "    count=0\n",
    "    for k, v in data_dict.iteritems():\n",
    "        if math.isnan(float(v[key])):\n",
    "            v[key] = 0.0\n",
    "\n",
    "# choosing a few financial features\n",
    "financial_features = ['total_stock_value', 'total_payments', 'salary', 'bonus']\n",
    "\n",
    "# finding min and max and reescaling\n",
    "my_data = {}\n",
    "for f_key in financial_features:    \n",
    "    max_value = 0.0\n",
    "    min_value = 'NaN'  \n",
    "    for k, v in data_dict.iteritems(): \n",
    "        dict_item = {}\n",
    "        feature_value = v[f_key]\n",
    "        dict_item[f_key] = feature_value\n",
    "        if math.isnan(float(min_value)):\n",
    "            min_value = feature_value\n",
    "        else:\n",
    "            if v[f_key] < min_value:\n",
    "                min_value = feature_value\n",
    "        if feature_value > max_value:\n",
    "            max_value = feature_value\n",
    "    my_data[k] = dict_item\n",
    "    print f_key + ' max value: ' + str(max_value)\n",
    "    print f_key + ' min value: ' + str(min_value)"
   ]
  },
  {
   "cell_type": "code",
   "execution_count": null,
   "metadata": {
    "collapsed": true
   },
   "outputs": [],
   "source": [
    "# Understanding email features"
   ]
  },
  {
   "cell_type": "code",
   "execution_count": 75,
   "metadata": {},
   "outputs": [
    {
     "name": "stdout",
     "output_type": "stream",
     "text": [
      "[('to_messages', 59), ('from_messages', 59), ('shared_receipt_with_poi', 59), ('from_poi_to_this_person', 59), ('from_this_person_to_poi', 59)]\n",
      "59\n"
     ]
    }
   ],
   "source": [
    "email_features = ['to_messages', 'email_address', 'from_poi_to_this_person', 'from_messages', \n",
    "                  'from_this_person_to_poi', 'shared_receipt_with_poi'] \n",
    "email_features.remove('email_address')\n",
    "count_keys = {}\n",
    "unique_names = set()\n",
    "for key in email_features:\n",
    "    count=0\n",
    "    for k, v in data_dict.iteritems():\n",
    "        if math.isnan(float(v[key])):\n",
    "            unique_names.add(k)\n",
    "            count+=1\n",
    "    count_keys[key] = count\n",
    "print sorted(count_keys.items(), key=operator.itemgetter(1))\n",
    "print len(unique_names)"
   ]
  },
  {
   "cell_type": "markdown",
   "metadata": {},
   "source": [
    "Running a k_means algorithm to find outliers"
   ]
  }
 ],
 "metadata": {
  "kernelspec": {
   "display_name": "Python 2",
   "language": "python",
   "name": "python2"
  },
  "language_info": {
   "codemirror_mode": {
    "name": "ipython",
    "version": 2
   },
   "file_extension": ".py",
   "mimetype": "text/x-python",
   "name": "python",
   "nbconvert_exporter": "python",
   "pygments_lexer": "ipython2",
   "version": "2.7.13"
  }
 },
 "nbformat": 4,
 "nbformat_minor": 2
}
